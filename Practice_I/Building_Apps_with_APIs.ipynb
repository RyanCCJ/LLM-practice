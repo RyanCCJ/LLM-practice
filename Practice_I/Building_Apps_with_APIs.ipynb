{
 "cells": [
  {
   "cell_type": "markdown",
   "id": "67da7374-0f5f-41ac-83db-5bd6d6710b98",
   "metadata": {},
   "source": [
    "# Building Applications with LLM APIs\n",
    "The following will demonstrate how to quickly build your own application using the Google Gemini API, including basic text generation as well as multimodal image and video input.\n",
    "\n",
    "## Import and Setup\n",
    "Remember to fill in your **Gemini API Key** in this block"
   ]
  },
  {
   "cell_type": "code",
   "execution_count": null,
   "id": "7c6d7d1c-35b0-4a89-8ebc-daf0f70f8649",
   "metadata": {},
   "outputs": [],
   "source": [
    "!pip install google-generativeai gradio"
   ]
  },
  {
   "cell_type": "code",
   "execution_count": 28,
   "id": "bff2274e-4d08-465e-a62d-65787f6ccbc6",
   "metadata": {},
   "outputs": [
    {
     "name": "stdout",
     "output_type": "stream",
     "text": [
      "Set Gemini API sucessfully!!\n"
     ]
    }
   ],
   "source": [
    "import google.generativeai as genai\n",
    "import gradio as gr\n",
    "import time\n",
    "\n",
    "# Set up Gemini API key\n",
    "GOOGLE_API_KEY=\"<Your-API-Key>\"\n",
    "genai.configure(api_key=GOOGLE_API_KEY)\n",
    "model = genai.GenerativeModel('gemini-1.5-flash')\n",
    "\n",
    "# Check if you have set your Gemini API successfully\n",
    "# You should see \"Set Gemini API sucessfully!!\" if nothing goes wrong.\n",
    "try:\n",
    "    model.generate_content(\"test\")\n",
    "    print(\"Set Gemini API sucessfully!!\")\n",
    "except:\n",
    "    print(\"There seems to be something wrong with your Gemini API.\")"
   ]
  },
  {
   "cell_type": "markdown",
   "id": "9b04b38c-745d-46ac-b715-9ffecf2ad81c",
   "metadata": {},
   "source": [
    "## Text Generation"
   ]
  },
  {
   "cell_type": "code",
   "execution_count": 33,
   "id": "affb4b6a-3b58-44c0-8746-07769db9800c",
   "metadata": {},
   "outputs": [
    {
     "name": "stdout",
     "output_type": "stream",
     "text": [
      "Running on local URL:  http://127.0.0.1:7880\n",
      "\n",
      "To create a public link, set `share=True` in `launch()`.\n"
     ]
    },
    {
     "data": {
      "text/html": [
       "<div><iframe src=\"http://127.0.0.1:7880/\" width=\"100%\" height=\"500\" allow=\"autoplay; camera; microphone; clipboard-read; clipboard-write;\" frameborder=\"0\" allowfullscreen></iframe></div>"
      ],
      "text/plain": [
       "<IPython.core.display.HTML object>"
      ]
     },
     "metadata": {},
     "output_type": "display_data"
    },
    {
     "data": {
      "text/plain": []
     },
     "execution_count": 33,
     "metadata": {},
     "output_type": "execute_result"
    }
   ],
   "source": [
    "# construct the Gradio UI interface\n",
    "with gr.Blocks() as demo:\n",
    "    gr.Markdown(\"# Generate a Story\\nUsing Gemini 1.5 Flash - Multimodal model\")\n",
    "    \n",
    "    # story character input\n",
    "    character_name = gr.Textbox(label=\"Enter character name:\", value='Mittens')\n",
    "    character_type = gr.Textbox(label=\"What type of character is it?\", value='Cat')\n",
    "    character_persona = gr.Textbox(label=\"What personality does the character have?\", value='Mitten is a very friendly cat.')\n",
    "    character_location = gr.Textbox(label=\"Where does the character live?\", value=\"Andromeda Galaxy\")\n",
    "\n",
    "    # story length and premise\n",
    "    length_of_story = gr.Radio([\"Short\",\"Long\"], value=\"Short\", label=\"Select the length of the story:\")\n",
    "    story_premise = gr.Dropdown([\"Love\",\"Adventure\",\"Mystery\",\"Horror\",\"Comedy\",\"Sci-Fi\",\"Fantasy\",\"Thriller\"],\n",
    "                                value=[\"Love\",\"Adventure\"], multiselect=True,\n",
    "                                label=\"What is the story premise? (can select multiple)\")\n",
    "    temperature = gr.Slider(0.0, 1.0, 0.7, step = 0.1, label=\"Creativity Level (temperature):\")\n",
    "\n",
    "    def generate_story(args):\n",
    "        prompt = f\"\"\"Write a {args[length_of_story]} story based on the following premise: \\n\n",
    "        character_name: {args[character_name]} \\n\n",
    "        character_type: {args[character_type]} \\n\n",
    "        character_persona: {args[character_persona]} \\n\n",
    "        character_location: {args[character_location]} \\n\n",
    "        story_premise: {\",\".join(args[story_premise])} \\n\n",
    "        If the story is \"short\", then make sure to have 5 chapters or else if it is \"long\" then 10 chapters. \n",
    "        Important point is that each chapter should be generated based on the premise given above.\n",
    "        First start by giving the book introduction, chapter introductions and then each chapter. It should also have a proper ending.\n",
    "        The book should have a prologue and an epilogue.\n",
    "        \"\"\"\n",
    "        response = model.generate_content(prompt, generation_config=genai.types.GenerationConfig(temperature=args[temperature]))\n",
    "        return [(prompt, response.text)]\n",
    "    \n",
    "    # submit and show result\n",
    "    button = gr.Button(\"Submit\")\n",
    "    chatbot = gr.Chatbot()\n",
    "    button.click(generate_story, \n",
    "                 inputs={character_name, character_type, character_persona, character_location, \n",
    "                         length_of_story, story_premise, temperature}, \n",
    "                 outputs=[chatbot])\n",
    "    \n",
    "demo.launch()"
   ]
  },
  {
   "cell_type": "markdown",
   "id": "e60b26ea-ceab-45be-8448-13841de9155e",
   "metadata": {},
   "source": [
    "## Image Recognition"
   ]
  },
  {
   "cell_type": "code",
   "execution_count": 52,
   "id": "9c702d4f-78c3-4d99-8fb2-817f8724d9b0",
   "metadata": {},
   "outputs": [
    {
     "name": "stdout",
     "output_type": "stream",
     "text": [
      "Running on local URL:  http://127.0.0.1:7892\n",
      "\n",
      "To create a public link, set `share=True` in `launch()`.\n"
     ]
    },
    {
     "data": {
      "text/html": [
       "<div><iframe src=\"http://127.0.0.1:7892/\" width=\"100%\" height=\"500\" allow=\"autoplay; camera; microphone; clipboard-read; clipboard-write;\" frameborder=\"0\" allowfullscreen></iframe></div>"
      ],
      "text/plain": [
       "<IPython.core.display.HTML object>"
      ]
     },
     "metadata": {},
     "output_type": "display_data"
    },
    {
     "data": {
      "text/plain": []
     },
     "execution_count": 52,
     "metadata": {},
     "output_type": "execute_result"
    }
   ],
   "source": [
    "file_path = 'math_equation.jpg'\n",
    "\n",
    "def generate_answer(image, prompt):\n",
    "    prefix = \"\"\"\n",
    "    Follow the instructions. Use a table with a row for each instruction and its result.\n",
    "    INSTRUCTIONS:\n",
    "    \"\"\"\n",
    "    prompt = prefix + prompt\n",
    "    response = model.generate_content([image, prompt], generation_config=genai.types.GenerationConfig())\n",
    "    return [(prompt, response.text)]\n",
    "    \n",
    "# construct the Gradio UI interface\n",
    "with gr.Blocks() as demo:\n",
    "    gr.Markdown(\"# Math Reasoning\\nUsing Gemini 1.5 Flash - Multimodal model\")\n",
    "    image = gr.Image(file_path, type='pil')\n",
    "    prompt = gr.Textbox(label=\"Ask questions about the math equation as follows:\", value=\"\"\"\n",
    "    - Extract the formula.\n",
    "    - What is the symbol right before Pi? What does it mean?\n",
    "    - Is this a famous formula? Does it have a name?\n",
    "    \"\"\")\n",
    "    button = gr.Button(\"Submit\")\n",
    "    chatbot = gr.Chatbot()\n",
    "    button.click(generate_answer, inputs=[image, prompt], outputs=[chatbot])\n",
    "    \n",
    "demo.launch()"
   ]
  },
  {
   "cell_type": "markdown",
   "id": "e9475d4d-7dd5-479d-b82e-572ce336c37c",
   "metadata": {},
   "source": [
    "## Video Analysis"
   ]
  },
  {
   "cell_type": "code",
   "execution_count": 60,
   "id": "cf1f2a13-158a-4bd5-bb54-94a1ea3dea9a",
   "metadata": {},
   "outputs": [
    {
     "name": "stdout",
     "output_type": "stream",
     "text": [
      "Running on local URL:  http://127.0.0.1:7900\n",
      "\n",
      "To create a public link, set `share=True` in `launch()`.\n"
     ]
    },
    {
     "data": {
      "text/html": [
       "<div><iframe src=\"http://127.0.0.1:7900/\" width=\"100%\" height=\"500\" allow=\"autoplay; camera; microphone; clipboard-read; clipboard-write;\" frameborder=\"0\" allowfullscreen></iframe></div>"
      ],
      "text/plain": [
       "<IPython.core.display.HTML object>"
      ]
     },
     "metadata": {},
     "output_type": "display_data"
    },
    {
     "data": {
      "text/plain": []
     },
     "execution_count": 60,
     "metadata": {},
     "output_type": "execute_result"
    }
   ],
   "source": [
    "file_path = 'bus.mp4'\n",
    "\n",
    "def generate_location(video_path, prompt):\n",
    "    video = genai.upload_file(video_path)\n",
    "    \n",
    "    # check whether the file is ready to be used\n",
    "    while video.state.name == \"PROCESSING\":\n",
    "        time.sleep(10)\n",
    "        video = genai.get_file(video.name)\n",
    "        \n",
    "    if video.state.name == \"FAILED\":\n",
    "      raise ValueError(video.state.name)\n",
    "        \n",
    "    prefix = \"Answer the following questions using the video only:\\n\"\n",
    "    prompt = prefix + prompt\n",
    "    response = model.generate_content([video, prompt], generation_config=genai.types.GenerationConfig())\n",
    "    return [(prompt, response.text)]\n",
    "    \n",
    "# construct the Gradio UI interface\n",
    "with gr.Blocks() as demo:\n",
    "    gr.Markdown(\"# Video Geolocation\\nUsing Gemini 1.5 Flash - Multimodal model\")\n",
    "    video_path = gr.Video(file_path)\n",
    "    prompt = gr.Textbox(label=\"Answer the following questions from the video:\", value=\"\"\"\n",
    "    - What is this video about?\n",
    "    - How do you know which city it is?\n",
    "    - What street is this?\n",
    "    - What is the nearest intersection?\n",
    "    \"\"\")\n",
    "    button = gr.Button(\"Submit\")\n",
    "    chatbot = gr.Chatbot()\n",
    "    button.click(generate_location, inputs=[video_path, prompt], outputs=[chatbot])\n",
    "    \n",
    "demo.launch()"
   ]
  }
 ],
 "metadata": {
  "kernelspec": {
   "display_name": "Python 3 (ipykernel)",
   "language": "python",
   "name": "python3"
  },
  "language_info": {
   "codemirror_mode": {
    "name": "ipython",
    "version": 3
   },
   "file_extension": ".py",
   "mimetype": "text/x-python",
   "name": "python",
   "nbconvert_exporter": "python",
   "pygments_lexer": "ipython3",
   "version": "3.9.6"
  }
 },
 "nbformat": 4,
 "nbformat_minor": 5
}
